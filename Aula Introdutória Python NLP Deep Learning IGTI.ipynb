{
 "cells": [
  {
   "cell_type": "markdown",
   "metadata": {},
   "source": [
    "Python é uma linguagem orientada a objetos dinamicamente tipada, ou seja, as variáveis não precisam ser declaradas para serem utilizadas e todas as variáveis em Python são objetos. Para utilizar uma variável em Python, é necessário apenas realizar uma atribuição, como demonstrada a seguir:"
   ]
  },
  {
   "cell_type": "code",
   "execution_count": 2,
   "metadata": {},
   "outputs": [],
   "source": [
    "temp = 1"
   ]
  },
  {
   "cell_type": "markdown",
   "metadata": {},
   "source": [
    "Neste exemplo, estamos atribuindo a uma variável chamada de temp o valor 1, que é do tipo inteiro ou Int. Em Python, uma atribuição se dá na forma “variável = expressão”, sendo expressão um valor de qualquer tipo válido. O nome da variável pode ser qualquer palavra não reservada que inicie com uma letra e pode incluir números e o símbolo de sublinhado (ex.: minha_variavel1).\n",
    "Podemos atribuir palavras ou textos completos em variáveis em Python. O tipo padrão para dados de texto em Python é chamado de String.\n"
   ]
  },
  {
   "cell_type": "code",
   "execution_count": 3,
   "metadata": {},
   "outputs": [],
   "source": [
    "nome1 = \"Leonardo\"\n",
    "frase1 = 'O professor está muito feliz em ensinar a vocês alunos'"
   ]
  },
  {
   "cell_type": "markdown",
   "metadata": {},
   "source": [
    "Em Python, Strings são identificadas como um conjunto contínuo de caracteres representados entre aspas (que podem ser simples ou duplas). O tipo Character, presente em linguagens como C e Java, não existe em Python. No Python 3 um caractere é na verdade uma String de tamanho 1, representada no sistema de codificação Unicode."
   ]
  },
  {
   "cell_type": "code",
   "execution_count": 4,
   "metadata": {},
   "outputs": [],
   "source": [
    "letraA = \"a\"\n",
    "letraB = 'b'\n"
   ]
  },
  {
   "cell_type": "markdown",
   "metadata": {},
   "source": [
    "Assumindo que a variável var1 representa a String ‘Amor’, a variável var2 representa a String “Ódio” e a variável var3 representa a String “Ainda que eu falasse a língua dos anjos”"
   ]
  },
  {
   "cell_type": "code",
   "execution_count": 5,
   "metadata": {},
   "outputs": [],
   "source": [
    "var1=\"Amor\"\n",
    "var2=\"Ódio\"\n",
    "var3=\"Ainda que eu falasse a língua dos anjos\""
   ]
  },
  {
   "cell_type": "markdown",
   "metadata": {},
   "source": [
    "Apresentarei para vocês algumas possíveis operações de Strings para o Python:\n",
    "+\tConcatenação - Cria uma nova String que une o valor de duas o mais Strings.\tvar1+var2 dará ‘AmorÓdio’"
   ]
  },
  {
   "cell_type": "code",
   "execution_count": 6,
   "metadata": {},
   "outputs": [
    {
     "name": "stdout",
     "output_type": "stream",
     "text": [
      "AmorÓdio\n"
     ]
    }
   ],
   "source": [
    "print(var1+var2)"
   ]
  },
  {
   "cell_type": "markdown",
   "metadata": {},
   "source": [
    "*\t( asterisco) Repetição - Cria novas Strings, concatenando múltiplas cópias da mesma String.\tvar1*2 dará ‘AmorAmor’"
   ]
  },
  {
   "cell_type": "code",
   "execution_count": 7,
   "metadata": {},
   "outputs": [
    {
     "name": "stdout",
     "output_type": "stream",
     "text": [
      "AmorAmor\n"
     ]
    }
   ],
   "source": [
    "print(var1*2)"
   ]
  },
  {
   "cell_type": "markdown",
   "metadata": {},
   "source": [
    "[]\tFatiamento - Retorna o caractere de um dado índice. var1[1] dará ‘m’"
   ]
  },
  {
   "cell_type": "code",
   "execution_count": 8,
   "metadata": {},
   "outputs": [
    {
     "name": "stdout",
     "output_type": "stream",
     "text": [
      "m\n"
     ]
    }
   ],
   "source": [
    "print(var1[1])"
   ]
  },
  {
   "cell_type": "markdown",
   "metadata": {},
   "source": [
    "[ : ]\tFatiamento em uma faixa - Retorna os caracteres de uma dada faixa de índices.\tvar3[1:4] dará ‘ind’"
   ]
  },
  {
   "cell_type": "code",
   "execution_count": 9,
   "metadata": {},
   "outputs": [
    {
     "name": "stdout",
     "output_type": "stream",
     "text": [
      "ind\n"
     ]
    }
   ],
   "source": [
    "print(var3[1:4])"
   ]
  },
  {
   "cell_type": "markdown",
   "metadata": {},
   "source": [
    "(in)\tAdesão - Retorna true se um caracter existe em uma dada String.\t‘A’ in var1 dará true"
   ]
  },
  {
   "cell_type": "code",
   "execution_count": 10,
   "metadata": {},
   "outputs": [
    {
     "name": "stdout",
     "output_type": "stream",
     "text": [
      "True\n"
     ]
    }
   ],
   "source": [
    "print('A' in var1)"
   ]
  },
  {
   "cell_type": "markdown",
   "metadata": {},
   "source": [
    "not in\tAdesão - Retorna true se um caracter não existe em uma dada String.\t‘i’ in var1 dará true"
   ]
  },
  {
   "cell_type": "code",
   "execution_count": 11,
   "metadata": {},
   "outputs": [
    {
     "name": "stdout",
     "output_type": "stream",
     "text": [
      "True\n"
     ]
    }
   ],
   "source": [
    "print('x' not in var1 )"
   ]
  },
  {
   "cell_type": "markdown",
   "metadata": {},
   "source": [
    "len\tTamanho - Retorna o tamanho da String contando espaços e caracteres especiais.\tlen(var1) dará 4"
   ]
  },
  {
   "cell_type": "code",
   "execution_count": 12,
   "metadata": {},
   "outputs": [
    {
     "name": "stdout",
     "output_type": "stream",
     "text": [
      "4\n"
     ]
    }
   ],
   "source": [
    "print(len(var1))"
   ]
  },
  {
   "cell_type": "markdown",
   "metadata": {},
   "source": [
    "replace\tSubstituição - Substitui uma substring de uma String por outra String.\tvar1.replace(‘Am’, ‘ia’) dará ‘iaor’"
   ]
  },
  {
   "cell_type": "code",
   "execution_count": 13,
   "metadata": {},
   "outputs": [
    {
     "name": "stdout",
     "output_type": "stream",
     "text": [
      "iaor\n"
     ]
    }
   ],
   "source": [
    "print(var1.replace('Am', 'ia'))"
   ]
  },
  {
   "cell_type": "markdown",
   "metadata": {},
   "source": [
    "count\tEnumeração - Conta quantas vezes uma substring aparece em uma String.\tvar1.count(‘r’) dará 1"
   ]
  },
  {
   "cell_type": "code",
   "execution_count": 14,
   "metadata": {},
   "outputs": [
    {
     "name": "stdout",
     "output_type": "stream",
     "text": [
      "1\n"
     ]
    }
   ],
   "source": [
    "print(var1.count(\"r\"))"
   ]
  },
  {
   "cell_type": "markdown",
   "metadata": {},
   "source": [
    "split\tDivisão - Separa uma String em um ponto dado por outra String.\tvar3.split(‘língua’) daria\n",
    "[‘Ainda que eu falasse a ’, ‘ dos anjos’]\n"
   ]
  },
  {
   "cell_type": "code",
   "execution_count": 15,
   "metadata": {},
   "outputs": [
    {
     "name": "stdout",
     "output_type": "stream",
     "text": [
      "['Ainda que eu falasse a ', ' dos anjos']\n"
     ]
    }
   ],
   "source": [
    "print(var3.split(\"língua\"))"
   ]
  },
  {
   "cell_type": "markdown",
   "metadata": {},
   "source": [
    "upper\tMaiúsculo - Torna todos os caracteres maiúsculos.\tvar1.upper() dará ‘AMOR’"
   ]
  },
  {
   "cell_type": "code",
   "execution_count": 16,
   "metadata": {},
   "outputs": [
    {
     "name": "stdout",
     "output_type": "stream",
     "text": [
      "AMOR\n"
     ]
    }
   ],
   "source": [
    "print(var1.upper())"
   ]
  },
  {
   "cell_type": "markdown",
   "metadata": {},
   "source": [
    "lower\tMinúsculo - Torna todos os caracteres minúsculos.\tvar1.lower() dará ‘amor’"
   ]
  },
  {
   "cell_type": "code",
   "execution_count": 18,
   "metadata": {},
   "outputs": [
    {
     "name": "stdout",
     "output_type": "stream",
     "text": [
      "amor\n"
     ]
    }
   ],
   "source": [
    "print(var1.lower())"
   ]
  },
  {
   "cell_type": "markdown",
   "metadata": {},
   "source": [
    "Expressões Regulares - \n",
    "Muitas das tarefas de Processamento de Linguagem Natural envolvem correspondência de padrões. Por exemplo, para encontrarmos palavras da mesma família de biblioteca em um texto, poderemos encontrar todas as palavras que contém o radical, ou stem, biblio (como bibliotecário e bibliófilo). Isso também se aplica aos outros morfemas básicos como prefixos e sufixos. Realizar essa tarefa com operações básicas de Strings em Python pode ser uma tarefa complicada, para tal, optamos pelo uso de Expressões Regulares. Para utilizarmos Expressões Regulares em Python, precisamos importar a biblioteca re. O trecho de código abaixo usa uma expressão regular (biblio\\w*) para encontrar todas as palavras com o stem biblio na string dada:"
   ]
  },
  {
   "cell_type": "code",
   "execution_count": 20,
   "metadata": {},
   "outputs": [
    {
     "name": "stdout",
     "output_type": "stream",
     "text": [
      "['bibliotecário', 'biblioteca']\n"
     ]
    }
   ],
   "source": [
    "import re\n",
    "texto = \"o bibliotecário abriu a biblioteca\"\n",
    "resultado = re.findall(r'biblio\\w*', texto)\n",
    "print(resultado)\n",
    "\n"
   ]
  },
  {
   "cell_type": "markdown",
   "metadata": {},
   "source": [
    "Expressões regulares são sequências de caracteres que definem um padrão de busca. Essas sequências são usadas em todas as linguagens de programação, processadores de textos e compiladores. Formalmente, uma expressão regular é uma notação algébrica que caracteriza um conjunto de strings. Elas são particularmente úteis para a pesquisa em textos, quando há um padrão de pesquisa e um Córpus de texto a ser pesquisado. Uma expressão regular irá realizar uma pesquisa em um Córpus e retornará todos os textos que correspondem ao padrão. Isso é extremamente útil na identificação de palavras com o mesmo stem ou para identificarmos padrões linguísticos em um Córpus anotado.\n",
    "Um exemplo de expressão regular bem simples é aquela que encontra uma palavra dentro de uma string. Por exemplo, podemos verificar a existência da palavra “pessoa” na frase “uma pessoa boa” usando o método search do objeto re de Python (lembrando que re é a classe que define expressões regulares):\n"
   ]
  },
  {
   "cell_type": "code",
   "execution_count": 24,
   "metadata": {},
   "outputs": [
    {
     "name": "stdout",
     "output_type": "stream",
     "text": [
      "<_sre.SRE_Match object; span=(4, 10), match='pessoa'>\n"
     ]
    }
   ],
   "source": [
    "import re\n",
    "texto = \"uma pessoa boa\"\n",
    "resultado = re.search(r'pessoa', texto)\n",
    "print(resultado)\n",
    "\n"
   ]
  },
  {
   "cell_type": "markdown",
   "metadata": {},
   "source": [
    "A sintaxe do método search é re.search(expressão regular, string). No exemplo acima, procuramos a palavra “pessoa” em “uma pessoa boa” e o resultado foi um objeto do tipo _sre.SRE_Match que especifica a existência da substring “pessoa”, além da faixa de caracteres dessa substring na string original e a correspondência. Repare que no campo de expressão regular do método search incluímos os caracteres r’. Em Python r’ indica que a string que representa a expressão regular deve ser lida como raw (crua), ou seja, símbolos como \\, que normalmente indicariam formas especiais de outros caracteres, devem ser lidos como caracteres individuais (dessa forma, \\n representa os caracteres \\n e não uma nova linha). Podemos verificar a substring encontrada na busca de duas formas: realizando o fatiamento da string original na faixa especificada ou através do método _sre.SRE_Match.group(índice) (com índice 0 neste caso em que existe apenas uma correspondência):"
   ]
  },
  {
   "cell_type": "code",
   "execution_count": 26,
   "metadata": {},
   "outputs": [
    {
     "name": "stdout",
     "output_type": "stream",
     "text": [
      "pessoa\n"
     ]
    },
    {
     "data": {
      "text/plain": [
       "'pessoa'"
      ]
     },
     "execution_count": 26,
     "metadata": {},
     "output_type": "execute_result"
    }
   ],
   "source": [
    "print(texto[4:10])\n",
    "resultado.group(0)"
   ]
  },
  {
   "cell_type": "markdown",
   "metadata": {},
   "source": [
    "O método re.search() retorna apenas a primeira substring que corresponde ao padrão encontrado na string de entrada, para encontrar todas as correspondências presentes na string de entrada, deve-se usar o método re.findall(expressão regular, string).\n",
    "Como não é do escopo desta disciplina uma revisão completa de expressões regulares, recomendamos uma leitura complementar para a melhor compreensão desse assunto."
   ]
  },
  {
   "cell_type": "markdown",
   "metadata": {},
   "source": [
    "Lista - \n",
    "Além de ser representado como uma String, um texto também pode ser representado como uma sequência de parágrafos, uma sequência de sentenças ou até mesmo como uma sequência de palavras. Para a execução de tarefas de PLN, visualizar um texto como uma sequência de palavras e pontuações é a maneira mais adequada pois podemos trabalhar com uma arquitetura bottom-up para identificar o significado do texto a partir do significado de cada palavra, ou seja, analisando os tokens do texto. Assim, a String \"Casa, comida e roupa lavada.\" pode ser representada da seguinte forma:\n"
   ]
  },
  {
   "cell_type": "code",
   "execution_count": 28,
   "metadata": {},
   "outputs": [],
   "source": [
    "texto = [\"Casa\", \",\", \"comida\", \"e\", \"roupa\", \"lavada\", \".\"]"
   ]
  },
  {
   "cell_type": "markdown",
   "metadata": {},
   "source": [
    "Repare que ao ser representado em uma lista, um texto aparece tokenizado, ou seja, conhecemos os limites de cada palavra e símbolo. Como já vimos, esse processo é muito importante para o pré-processamento de NLP. Utilizando expressões regulares, podemos obter uma lista de tokens a partir de Strings (utilizando o método re.split()), desde que definamos a condição de separação entre esses tokens (ex.: o espaço entre as palavras). Voltando ainda ao que foi dito na seção 2, essa tática nem sempre garante que os tokens sejam definidos corretamente, já que existem situações mais complexas, como palavras separadas por hífens, ou números reais divididos por pontos ou vírgulas. Abaixo temos um exemplo de tokenização feita com expressões regulares que separa as palavras por espaços, novas linhas e tabs. Repare que os símbolos de pontuação aparecem juntos de outras palavras como se fossem um único token (ex.: ‘memórias.’):"
   ]
  },
  {
   "cell_type": "code",
   "execution_count": 32,
   "metadata": {},
   "outputs": [
    {
     "name": "stdout",
     "output_type": "stream",
     "text": [
      "['O', 'professor', 'está', 'muito', 'feliz', 'em', 'ensinar', 'a', 'vocês', 'alunos.']\n"
     ]
    }
   ],
   "source": [
    "texto = \"O professor está muito feliz em ensinar a vocês alunos.\"\n",
    "print(re.split(r'[ \\t\\n]+', texto))"
   ]
  },
  {
   "cell_type": "markdown",
   "metadata": {},
   "source": [
    "Uma solução para esse problema é a expressão (r\"\\w+(?:[-’]\\w+)*|’|[-.(]+|\\S\\w*\"). \n",
    "Tente executar o código abaixo e observe a diferença.\n",
    "\n"
   ]
  },
  {
   "cell_type": "code",
   "execution_count": 34,
   "metadata": {},
   "outputs": [
    {
     "name": "stdout",
     "output_type": "stream",
     "text": [
      "['O', 'professor', 'está', 'muito', 'feliz', 'em', 'ensinar', 'a', 'vocês', 'alunos', '.']\n"
     ]
    }
   ],
   "source": [
    "print(re.findall(r\"\\w+(?:[-’]\\w+)*|’|[-.(]+|\\S\\w*\", texto)) "
   ]
  },
  {
   "cell_type": "markdown",
   "metadata": {},
   "source": [
    "Aqui eu termino esta aula agradecendo a todos a vocês pela atenção e também aos autores Jardeson Leandro Nascimento Barbosa, João Paulo Albuquerque Vieira,Roney Lira de Sales Santos, Gilvan Veras Magalhães Junior, Mariana dos Santos Muniz, Raimundo Santos Moura que escreveram um artigo super legal (III Escola Regional de Informática do Piauí. Livro Anais - Artigos e Minicursos, v. 1, n. 1, p. 336-360, jun, 2017.) que serviu de base para essa demonstração.\n"
   ]
  }
 ],
 "metadata": {
  "kernelspec": {
   "display_name": "Python 3",
   "language": "python",
   "name": "python3"
  },
  "language_info": {
   "codemirror_mode": {
    "name": "ipython",
    "version": 3
   },
   "file_extension": ".py",
   "mimetype": "text/x-python",
   "name": "python",
   "nbconvert_exporter": "python",
   "pygments_lexer": "ipython3",
   "version": "3.6.8"
  }
 },
 "nbformat": 4,
 "nbformat_minor": 2
}
